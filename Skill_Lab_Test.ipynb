{
  "nbformat": 4,
  "nbformat_minor": 0,
  "metadata": {
    "colab": {
      "provenance": [],
      "include_colab_link": true
    },
    "kernelspec": {
      "name": "python3",
      "display_name": "Python 3"
    },
    "language_info": {
      "name": "python"
    }
  },
  "cells": [
    {
      "cell_type": "markdown",
      "metadata": {
        "id": "view-in-github",
        "colab_type": "text"
      },
      "source": [
        "<a href=\"https://colab.research.google.com/github/dharshinivenkatesan/pyspark/blob/main/Skill_Lab_Test.ipynb\" target=\"_parent\"><img src=\"https://colab.research.google.com/assets/colab-badge.svg\" alt=\"Open In Colab\"/></a>"
      ]
    },
    {
      "cell_type": "code",
      "execution_count": 1,
      "metadata": {
        "id": "YQKUCIMiwhQv"
      },
      "outputs": [],
      "source": [
        "from pyspark.sql import SparkSession\n",
        "import pandas as pd\n",
        "from pyspark.sql.functions import col,greatest,lit,expr,regexp_replace,sum,round,count,avg,countDistinct,max,when\n",
        "from pyspark.sql.window import Window\n",
        "from datetime import datetime, timedelta"
      ]
    },
    {
      "cell_type": "code",
      "source": [
        "spark = SparkSession.builder.appName(\"Hamadullah\").getOrCreate()"
      ],
      "metadata": {
        "id": "xAGLzajrwrkL"
      },
      "execution_count": 2,
      "outputs": []
    },
    {
      "cell_type": "code",
      "source": [
        "#Code to read data into pd dataframe from excel sheet and convert to spark dataframe\n",
        "'''file_path = \"path\"\n",
        "data_pd = pd.read_excel(file_path, sheet_name=\"orders\")\n",
        "data_df = spark.createDataFrame(data_pd)'''"
      ],
      "metadata": {
        "colab": {
          "base_uri": "https://localhost:8080/",
          "height": 35
        },
        "id": "RXMl51GQwvzH",
        "outputId": "c020555a-7856-41bd-a3b4-c37f83ea10ce"
      },
      "execution_count": 4,
      "outputs": [
        {
          "output_type": "execute_result",
          "data": {
            "text/plain": [
              "'file_path = \"path\"\\ndata_pd = pd.read_excel(file_path, sheet_name=\"orders\")\\ndata_df = spark.createDataFrame(data_pd)'"
            ],
            "application/vnd.google.colaboratory.intrinsic+json": {
              "type": "string"
            }
          },
          "metadata": {},
          "execution_count": 4
        }
      ]
    },
    {
      "cell_type": "markdown",
      "source": [
        "#Question 1"
      ],
      "metadata": {
        "id": "ATwUh5ZDzlbO"
      }
    },
    {
      "cell_type": "code",
      "source": [
        "\n",
        "data = [\n",
        "    (1, \"Titanium Cartridge\", 2500),\n",
        "    (2, \"Hand Grenade\", 1800),\n",
        "    (3, \"AK47\", 1200),\n",
        "    (4, \"Timer\", 900),\n",
        "    (5, \"RDX\", 800),\n",
        "    (6, \"Battery\", 600),\n",
        "    (7, \"AK47\", 400),\n",
        "    (8, \"Insulated Wire\", 1500),\n",
        "    (9, \"RDX\", 700),\n",
        "    (10, \"Glock\", 1300),\n",
        "    (11, \"Kevlar\", 300),\n",
        "    (12, \"Mine\", 1000),\n",
        "    (13, \"Helmet\", 400),\n",
        "    (14, \"Gloves\", 300),\n",
        "    (15, \"Paper\", 1300),\n",
        "    (16, \"RDX\", 900),\n",
        "    (17, \"Sulphur\", 1000),\n",
        "    (18, \"Mine\", 500)\n",
        "]\n",
        "\n",
        "columns = [\"sale_id\", \"product_name\", \"sales\"]\n",
        "\n",
        "data_df = spark.createDataFrame(data, schema=columns)\n",
        "\n",
        "result = (\n",
        "    data_df.groupBy(\"product_name\")\n",
        "    .sum(\"sales\")\n",
        "    .withColumnRenamed(\"sum(sales)\", \"total_sales\")\n",
        "    .orderBy(col(\"total_sales\").desc())\n",
        "    .limit(5)\n",
        ")\n",
        "\n",
        "result.show()"
      ],
      "metadata": {
        "colab": {
          "base_uri": "https://localhost:8080/"
        },
        "id": "ALEGNye_xbLY",
        "outputId": "57d61a57-0f5a-4e61-afde-42e051dcb696"
      },
      "execution_count": 5,
      "outputs": [
        {
          "output_type": "stream",
          "name": "stdout",
          "text": [
            "+------------------+-----------+\n",
            "|      product_name|total_sales|\n",
            "+------------------+-----------+\n",
            "|Titanium Cartridge|       2500|\n",
            "|               RDX|       2400|\n",
            "|      Hand Grenade|       1800|\n",
            "|              AK47|       1600|\n",
            "|    Insulated Wire|       1500|\n",
            "+------------------+-----------+\n",
            "\n"
          ]
        }
      ]
    },
    {
      "cell_type": "markdown",
      "source": [
        "#Question 2"
      ],
      "metadata": {
        "id": "6JcVCkCC7FvH"
      }
    },
    {
      "cell_type": "code",
      "source": [
        "import random\n",
        "\n",
        "\n",
        "data = [(i, random.randint(50, 100), random.randint(50, 100), random.randint(50, 100), random.randint(50, 100)) for i in range(1, 21)]\n",
        "columns = [\"employee_id\", \"quarter1\", \"quarter2\", \"quarter3\", \"quarter4\"]\n",
        "\n",
        "data_df = spark.createDataFrame(data, columns)\n",
        "result = data_df.withColumn(\"max_score\", greatest(\"quarter1\", \"quarter2\", \"quarter3\", \"quarter4\"))\n",
        "#result = result.drop(\"quarter1\", \"quarter2\", \"quarter3\", \"quarter4\")\n",
        "\n",
        "result.show()"
      ],
      "metadata": {
        "colab": {
          "base_uri": "https://localhost:8080/"
        },
        "id": "WGH2g25K2MFF",
        "outputId": "24f856eb-9a6d-42a3-91cc-60ed0e0298a2"
      },
      "execution_count": 6,
      "outputs": [
        {
          "output_type": "stream",
          "name": "stdout",
          "text": [
            "+-----------+--------+--------+--------+--------+---------+\n",
            "|employee_id|quarter1|quarter2|quarter3|quarter4|max_score|\n",
            "+-----------+--------+--------+--------+--------+---------+\n",
            "|          1|      95|      95|      50|     100|      100|\n",
            "|          2|      52|      52|      80|      76|       80|\n",
            "|          3|      60|      74|      56|      93|       93|\n",
            "|          4|      94|      57|      68|      75|       94|\n",
            "|          5|      63|      61|      71|      69|       71|\n",
            "|          6|      58|      85|      66|      74|       85|\n",
            "|          7|      99|      89|      71|      89|       99|\n",
            "|          8|      67|      59|      59|      61|       67|\n",
            "|          9|      61|      75|      92|      81|       92|\n",
            "|         10|     100|      87|      82|      62|      100|\n",
            "|         11|      60|      51|      80|      78|       80|\n",
            "|         12|      58|      50|      53|      75|       75|\n",
            "|         13|      85|      69|      53|      96|       96|\n",
            "|         14|      95|      51|      71|      72|       95|\n",
            "|         15|      50|      82|      65|      93|       93|\n",
            "|         16|      61|      76|      56|      58|       76|\n",
            "|         17|      98|      57|      54|      57|       98|\n",
            "|         18|      61|      81|      89|      73|       89|\n",
            "|         19|      72|      56|      95|      59|       95|\n",
            "|         20|      55|      57|      99|      83|       99|\n",
            "+-----------+--------+--------+--------+--------+---------+\n",
            "\n"
          ]
        }
      ]
    },
    {
      "cell_type": "markdown",
      "source": [
        "#Question 3"
      ],
      "metadata": {
        "id": "fXmWjSEb7K_x"
      }
    },
    {
      "cell_type": "code",
      "source": [
        "data = [(i, random.randint(100, 10000)) for i in range(1, 31)]\n",
        "columns = [\"customer_id\", \"spending\"]\n",
        "\n",
        "data_df = spark.createDataFrame(data, columns)\n",
        "\n",
        "result = data_df.withColumn(\"currency\", lit(\"USD\"))\n",
        "\n",
        "result.show()"
      ],
      "metadata": {
        "colab": {
          "base_uri": "https://localhost:8080/"
        },
        "id": "OmXs_6aV7OSW",
        "outputId": "6347495f-0124-44b7-8715-297b39a5372c"
      },
      "execution_count": 7,
      "outputs": [
        {
          "output_type": "stream",
          "name": "stdout",
          "text": [
            "+-----------+--------+--------+\n",
            "|customer_id|spending|currency|\n",
            "+-----------+--------+--------+\n",
            "|          1|    4480|     USD|\n",
            "|          2|    5436|     USD|\n",
            "|          3|    8824|     USD|\n",
            "|          4|    4364|     USD|\n",
            "|          5|    7437|     USD|\n",
            "|          6|    4645|     USD|\n",
            "|          7|    1945|     USD|\n",
            "|          8|    9635|     USD|\n",
            "|          9|    1969|     USD|\n",
            "|         10|    7865|     USD|\n",
            "|         11|    7028|     USD|\n",
            "|         12|    5890|     USD|\n",
            "|         13|    5891|     USD|\n",
            "|         14|    8423|     USD|\n",
            "|         15|    4063|     USD|\n",
            "|         16|    4324|     USD|\n",
            "|         17|    3546|     USD|\n",
            "|         18|    5264|     USD|\n",
            "|         19|    8590|     USD|\n",
            "|         20|    1641|     USD|\n",
            "+-----------+--------+--------+\n",
            "only showing top 20 rows\n",
            "\n"
          ]
        }
      ]
    },
    {
      "cell_type": "markdown",
      "source": [
        "#Question 4"
      ],
      "metadata": {
        "id": "jfMKtpWU8KGo"
      }
    },
    {
      "cell_type": "code",
      "source": [
        "data = [\n",
        "    (\"Cartridge\", \"Titanium\", 1500),\n",
        "    (\"Cartridge\", \"Steel\", 1800),\n",
        "    (\"Cartridge\", \"Brass\", 1200),\n",
        "    (\"Gun\", \"AK47\", 900),\n",
        "    (\"Explosive\", \"RDX\", 800),\n",
        "    (\"Supply\", \"Battery\", 600),\n",
        "    (\"Gun\", \"AK47\", 400),\n",
        "    (\"Supply\", \"Insulated Wire\", 1500),\n",
        "    (\"Explosive\", \"RDX\", 700),\n",
        "    (\"Gun\", \"Glock\", 1300),\n",
        "    (\"Supply\", \"Kevlar\", 300),\n",
        "    (\"Explosive\", \"Mine\", 1000),\n",
        "    (\"Supply\", \"Helmet\", 400),\n",
        "    (\"Supply\", \"Gloves\", 300),\n",
        "    (\"Supply\", \"Paper\", 1300),\n",
        "    (\"Explosive\", \"RDX\", 900),\n",
        "    (\"Explosive\", \"Sulphur\", 1000),\n",
        "    (\"Explosive\", \"Mine\", 500)\n",
        "]\n",
        "\n",
        "columns = [\"category\", \"subcategory\", \"sales\"]\n",
        "\n",
        "data_df = spark.createDataFrame(data, columns)\n",
        "\n",
        "data_df.createOrReplaceTempView(\"sales_view\")\n",
        "\n",
        "\n",
        "result = spark.sql(\n",
        "    \"\"\"\n",
        "    SELECT category, subcategory, SUM(sales) AS total_sales\n",
        "    FROM sales_view\n",
        "    GROUP BY category, subcategory\n",
        "    ORDER BY category, subcategory\n",
        "    \"\"\"\n",
        ")\n",
        "result.show()\n",
        "\n",
        "result = spark.sql(\n",
        "    \"\"\"\n",
        "    SELECT category, SUM(sales) AS total_sales\n",
        "    FROM sales_view\n",
        "    GROUP BY category\n",
        "    ORDER BY category\n",
        "    \"\"\"\n",
        ")\n",
        "\n",
        "result.show()\n",
        "\n",
        "result = spark.sql(\n",
        "    \"\"\"\n",
        "    SELECT subcategory, SUM(sales) AS total_sales\n",
        "    FROM sales_view\n",
        "    GROUP BY subcategory\n",
        "    ORDER BY subcategory\n",
        "    \"\"\"\n",
        ")\n",
        "\n",
        "\n",
        "\n",
        "result.show()"
      ],
      "metadata": {
        "colab": {
          "base_uri": "https://localhost:8080/"
        },
        "id": "moAusebK8JOp",
        "outputId": "48bcce62-1152-4531-e23e-c39dd657461b"
      },
      "execution_count": 8,
      "outputs": [
        {
          "output_type": "stream",
          "name": "stdout",
          "text": [
            "+---------+--------------+-----------+\n",
            "| category|   subcategory|total_sales|\n",
            "+---------+--------------+-----------+\n",
            "|Cartridge|         Brass|       1200|\n",
            "|Cartridge|         Steel|       1800|\n",
            "|Cartridge|      Titanium|       1500|\n",
            "|Explosive|          Mine|       1500|\n",
            "|Explosive|           RDX|       2400|\n",
            "|Explosive|       Sulphur|       1000|\n",
            "|      Gun|          AK47|       1300|\n",
            "|      Gun|         Glock|       1300|\n",
            "|   Supply|       Battery|        600|\n",
            "|   Supply|        Gloves|        300|\n",
            "|   Supply|        Helmet|        400|\n",
            "|   Supply|Insulated Wire|       1500|\n",
            "|   Supply|        Kevlar|        300|\n",
            "|   Supply|         Paper|       1300|\n",
            "+---------+--------------+-----------+\n",
            "\n",
            "+---------+-----------+\n",
            "| category|total_sales|\n",
            "+---------+-----------+\n",
            "|Cartridge|       4500|\n",
            "|Explosive|       4900|\n",
            "|      Gun|       2600|\n",
            "|   Supply|       4400|\n",
            "+---------+-----------+\n",
            "\n",
            "+--------------+-----------+\n",
            "|   subcategory|total_sales|\n",
            "+--------------+-----------+\n",
            "|          AK47|       1300|\n",
            "|       Battery|        600|\n",
            "|         Brass|       1200|\n",
            "|         Glock|       1300|\n",
            "|        Gloves|        300|\n",
            "|        Helmet|        400|\n",
            "|Insulated Wire|       1500|\n",
            "|        Kevlar|        300|\n",
            "|          Mine|       1500|\n",
            "|         Paper|       1300|\n",
            "|           RDX|       2400|\n",
            "|         Steel|       1800|\n",
            "|       Sulphur|       1000|\n",
            "|      Titanium|       1500|\n",
            "+--------------+-----------+\n",
            "\n"
          ]
        }
      ]
    },
    {
      "cell_type": "markdown",
      "source": [
        "#Question 5"
      ],
      "metadata": {
        "id": "GIfMQZfq_kan"
      }
    },
    {
      "cell_type": "code",
      "source": [
        "data = [(i, random.randint(50, 500), f\"{random.uniform(5, 30):.2f}%\") for i in range(1, 21)]\n",
        "columns = [\"product_id\", \"price\", \"discount_percent\"]\n",
        "\n",
        "\n",
        "data_df = spark.createDataFrame(data, columns)\n",
        "\n",
        "data_df = data_df.withColumn(\n",
        "    \"discount_percent\", regexp_replace(\"discount_percent\", \"%\", \"\").cast(\"double\")\n",
        ")\n",
        "\n",
        "\n",
        "result = data_df.withColumn(\n",
        "    \"final_price\", expr(\"price - (price * discount_percent / 100)\")\n",
        ")\n",
        "\n",
        "\n",
        "result.show()\n"
      ],
      "metadata": {
        "colab": {
          "base_uri": "https://localhost:8080/"
        },
        "id": "LV9In6Pw_ckh",
        "outputId": "ddaca820-bd39-4fed-922d-a480e1a9d3e3"
      },
      "execution_count": 9,
      "outputs": [
        {
          "output_type": "stream",
          "name": "stdout",
          "text": [
            "+----------+-----+----------------+------------------+\n",
            "|product_id|price|discount_percent|       final_price|\n",
            "+----------+-----+----------------+------------------+\n",
            "|         1|  198|            7.28|          183.5856|\n",
            "|         2|  476|           17.22|          394.0328|\n",
            "|         3|  476|           17.43|393.03319999999997|\n",
            "|         4|   86|            29.7|            60.458|\n",
            "|         5|  346|           14.71|          295.1034|\n",
            "|         6|   50|           22.99|            38.505|\n",
            "|         7|  134|           13.93|          115.3338|\n",
            "|         8|  280|            7.89|           257.908|\n",
            "|         9|  235|           18.74|           190.961|\n",
            "|        10|  382|           17.33|          315.7994|\n",
            "|        11|  459|           11.64|          405.5724|\n",
            "|        12|  133|           29.36|           93.9512|\n",
            "|        13|   90|           28.34|            64.494|\n",
            "|        14|  362|            8.85|           329.963|\n",
            "|        15|  483|           21.78|          377.8026|\n",
            "|        16|  304|            5.87|          286.1552|\n",
            "|        17|   55|           20.72|            43.604|\n",
            "|        18|  359|           21.89|          280.4149|\n",
            "|        19|  218|           26.13|          161.0366|\n",
            "|        20|  126|           11.79|          111.1446|\n",
            "+----------+-----+----------------+------------------+\n",
            "\n"
          ]
        }
      ]
    },
    {
      "cell_type": "markdown",
      "source": [
        "#Question 6"
      ],
      "metadata": {
        "id": "CFAcbjoy79R7"
      }
    },
    {
      "cell_type": "code",
      "source": [
        "data = [\n",
        "    (f\"Product_{random.randint(1, 10)}\", f\"Region_{random.randint(1, 5)}\", i, random.randint(1, 5), f\"Comment_{i}\")\n",
        "    for i in range(1, 101)\n",
        "]\n",
        "columns = [\"product\", \"region\", \"feedback_id\", \"rating\", \"comments\"]\n",
        "\n",
        "\n",
        "data_df = spark.createDataFrame(data, columns)\n",
        "\n",
        "\n",
        "result = data_df.filter(col(\"rating\").isin(4, 5))\n",
        "scalar = result.count()\n",
        "\n",
        "result.show()\n",
        "\n",
        "\n",
        "print(f\"Number of feedback entries with high ratings (4 or 5): {scalar}\")\n"
      ],
      "metadata": {
        "colab": {
          "base_uri": "https://localhost:8080/"
        },
        "id": "peBJdocJ8APn",
        "outputId": "6f7ecba6-1855-49d4-fe5c-556825e77a7d"
      },
      "execution_count": 10,
      "outputs": [
        {
          "output_type": "stream",
          "name": "stdout",
          "text": [
            "+----------+--------+-----------+------+----------+\n",
            "|   product|  region|feedback_id|rating|  comments|\n",
            "+----------+--------+-----------+------+----------+\n",
            "| Product_2|Region_4|          4|     5| Comment_4|\n",
            "| Product_4|Region_3|          5|     4| Comment_5|\n",
            "| Product_1|Region_5|         11|     4|Comment_11|\n",
            "| Product_6|Region_4|         13|     5|Comment_13|\n",
            "| Product_8|Region_5|         14|     4|Comment_14|\n",
            "| Product_6|Region_4|         16|     5|Comment_16|\n",
            "|Product_10|Region_5|         18|     5|Comment_18|\n",
            "| Product_1|Region_2|         22|     4|Comment_22|\n",
            "| Product_4|Region_4|         30|     4|Comment_30|\n",
            "| Product_1|Region_1|         31|     5|Comment_31|\n",
            "| Product_9|Region_3|         34|     4|Comment_34|\n",
            "| Product_7|Region_3|         36|     5|Comment_36|\n",
            "| Product_4|Region_1|         37|     4|Comment_37|\n",
            "|Product_10|Region_3|         38|     4|Comment_38|\n",
            "| Product_6|Region_2|         39|     4|Comment_39|\n",
            "| Product_4|Region_4|         40|     5|Comment_40|\n",
            "| Product_8|Region_5|         41|     4|Comment_41|\n",
            "| Product_2|Region_3|         42|     4|Comment_42|\n",
            "| Product_1|Region_1|         43|     4|Comment_43|\n",
            "| Product_2|Region_5|         44|     4|Comment_44|\n",
            "+----------+--------+-----------+------+----------+\n",
            "only showing top 20 rows\n",
            "\n",
            "Number of feedback entries with high ratings (4 or 5): 38\n"
          ]
        }
      ]
    },
    {
      "cell_type": "markdown",
      "source": [
        "#Question 7"
      ],
      "metadata": {
        "id": "9jfdg7m_CEv2"
      }
    },
    {
      "cell_type": "code",
      "source": [
        "data = [\n",
        "    (f\"Product_{random.randint(1, 5)}\", (datetime(2024, 1, 1) + timedelta(days=random.randint(0, 30))).strftime('%Y-%m-%d'), random.randint(100, 500))\n",
        "    for _ in range(100)\n",
        "]\n",
        "columns = [\"product_id\", \"date\", \"sales\"]\n",
        "\n",
        "\n",
        "data_df = spark.createDataFrame(data, columns)\n",
        "\n",
        "\n",
        "window_spec = Window.partitionBy(\"product_id\").orderBy(\"date\").rowsBetween(Window.unboundedPreceding, Window.currentRow)\n",
        "\n",
        "\n",
        "result = data_df.withColumn(\"running_total\", sum(\"sales\").over(window_spec))\n",
        "\n",
        "\n",
        "result.show()"
      ],
      "metadata": {
        "colab": {
          "base_uri": "https://localhost:8080/"
        },
        "id": "EsfqPZmpCHLF",
        "outputId": "a081a0f6-beb5-4813-88ce-e1716608c9c5"
      },
      "execution_count": 11,
      "outputs": [
        {
          "output_type": "stream",
          "name": "stdout",
          "text": [
            "+----------+----------+-----+-------------+\n",
            "|product_id|      date|sales|running_total|\n",
            "+----------+----------+-----+-------------+\n",
            "| Product_1|2024-01-01|  140|          140|\n",
            "| Product_1|2024-01-01|  294|          434|\n",
            "| Product_1|2024-01-02|  271|          705|\n",
            "| Product_1|2024-01-02|  184|          889|\n",
            "| Product_1|2024-01-05|  281|         1170|\n",
            "| Product_1|2024-01-06|  266|         1436|\n",
            "| Product_1|2024-01-06|  377|         1813|\n",
            "| Product_1|2024-01-08|  362|         2175|\n",
            "| Product_1|2024-01-08|  256|         2431|\n",
            "| Product_1|2024-01-13|  410|         2841|\n",
            "| Product_1|2024-01-13|  346|         3187|\n",
            "| Product_1|2024-01-14|  430|         3617|\n",
            "| Product_1|2024-01-16|  116|         3733|\n",
            "| Product_1|2024-01-20|  318|         4051|\n",
            "| Product_1|2024-01-24|  159|         4210|\n",
            "| Product_1|2024-01-26|  498|         4708|\n",
            "| Product_1|2024-01-28|  172|         4880|\n",
            "| Product_2|2024-01-03|  327|          327|\n",
            "| Product_2|2024-01-07|  237|          564|\n",
            "| Product_2|2024-01-10|  208|          772|\n",
            "+----------+----------+-----+-------------+\n",
            "only showing top 20 rows\n",
            "\n"
          ]
        }
      ]
    },
    {
      "cell_type": "markdown",
      "source": [
        "#Question 8"
      ],
      "metadata": {
        "id": "88IplshR8CjJ"
      }
    },
    {
      "cell_type": "markdown",
      "source": [
        "i am not sure what this question wants us to do"
      ],
      "metadata": {
        "id": "TV_Bh5uxVS34"
      }
    },
    {
      "cell_type": "code",
      "source": [
        "data = [\n",
        "    (\"john.doe@gmail.com\", \"gmail.com\"),\n",
        "    (\"jane.smith@yahoo.com\", \"yahoo.com\"),\n",
        "    (\"adam.west@gmail.com\", \"gmail.com\"),\n",
        "    (\"eve.jackson@outlook.com\", \"outlook.com\")\n",
        "]\n",
        "\n",
        "\n",
        "columns = [\"email\", \"domain\"]\n",
        "\n",
        "\n",
        "data_df = spark.createDataFrame(data, columns)\n",
        "\n",
        "\n",
        "result = data_df.filter(col(\"email\").like(\"%gmail%\"))\n",
        "\n",
        "\n",
        "result = result.withColumn(\"extracted_domain\", expr(\"substr(domain, 1, length(domain))\"))\n",
        "\n",
        "\n",
        "result.show()\n"
      ],
      "metadata": {
        "id": "9RnHA3wxDjRI",
        "colab": {
          "base_uri": "https://localhost:8080/"
        },
        "outputId": "a808d3d9-8059-451c-b477-ce4409f12ae7"
      },
      "execution_count": 12,
      "outputs": [
        {
          "output_type": "stream",
          "name": "stdout",
          "text": [
            "+-------------------+---------+----------------+\n",
            "|              email|   domain|extracted_domain|\n",
            "+-------------------+---------+----------------+\n",
            "| john.doe@gmail.com|gmail.com|       gmail.com|\n",
            "|adam.west@gmail.com|gmail.com|       gmail.com|\n",
            "+-------------------+---------+----------------+\n",
            "\n"
          ]
        }
      ]
    },
    {
      "cell_type": "markdown",
      "source": [
        "#Question 9"
      ],
      "metadata": {
        "id": "hZTRJKhM9R8u"
      }
    },
    {
      "cell_type": "code",
      "source": [
        "data = [\n",
        "    (1, 100.456, 5.234),\n",
        "    (2, 200.789, 10.567),\n",
        "    (3, 50.111, 2.345),\n",
        "    (4, 300.523, 15.678)\n",
        "]\n",
        "\n",
        "\n",
        "columns = [\"transaction_id\", \"amount\", \"tax\"]\n",
        "\n",
        "\n",
        "data_df = spark.createDataFrame(data, columns)\n",
        "\n",
        "\n",
        "result = data_df.withColumn(\"total_amount\", col(\"amount\") + col(\"tax\"))\n",
        "\n",
        "\n",
        "result = result.withColumn(\"total_amount_rounded\", round(col(\"total_amount\"), 2))\n",
        "\n",
        "\n",
        "result.show()"
      ],
      "metadata": {
        "colab": {
          "base_uri": "https://localhost:8080/"
        },
        "id": "re0l34X-9Uq1",
        "outputId": "689ea27f-3327-47ee-cfbb-b2faa461e200"
      },
      "execution_count": 13,
      "outputs": [
        {
          "output_type": "stream",
          "name": "stdout",
          "text": [
            "+--------------+-------+------+------------------+--------------------+\n",
            "|transaction_id| amount|   tax|      total_amount|total_amount_rounded|\n",
            "+--------------+-------+------+------------------+--------------------+\n",
            "|             1|100.456| 5.234|            105.69|              105.69|\n",
            "|             2|200.789|10.567|           211.356|              211.36|\n",
            "|             3| 50.111| 2.345|52.455999999999996|               52.46|\n",
            "|             4|300.523|15.678|           316.201|               316.2|\n",
            "+--------------+-------+------+------------------+--------------------+\n",
            "\n"
          ]
        }
      ]
    },
    {
      "cell_type": "markdown",
      "source": [
        "#Question 10"
      ],
      "metadata": {
        "id": "khR4ly3o-Ggs"
      }
    },
    {
      "cell_type": "code",
      "source": [
        "data = [\n",
        "    (1, \"2024-12-01\", 150.50),\n",
        "    (2, \"2024-12-02\", 50.00),\n",
        "    (1, \"2024-12-03\", 200.75),\n",
        "    (3, \"2024-12-04\", 300.20),\n",
        "    (2, \"2024-12-05\", 120.00),\n",
        "    (3, \"2024-12-06\", 95.00)\n",
        "]\n",
        "\n",
        "\n",
        "columns = [\"customer_id\", \"order_date\", \"amount\"]\n",
        "\n",
        "\n",
        "data_df = spark.createDataFrame(data, columns)\n",
        "\n",
        "\n",
        "data_df.createOrReplaceTempView(\"customer_orders\")\n",
        "\n",
        "\n",
        "query = \"\"\"\n",
        "SELECT\n",
        "    customer_id,\n",
        "    AVG(amount) AS average_order_amount\n",
        "FROM\n",
        "    customer_orders\n",
        "GROUP BY\n",
        "    customer_id\n",
        "HAVING\n",
        "    AVG(amount) > 100\n",
        "\"\"\"\n",
        "result = spark.sql(query)\n",
        "\n",
        "\n",
        "result.show()"
      ],
      "metadata": {
        "colab": {
          "base_uri": "https://localhost:8080/"
        },
        "id": "m1gsi3Ve-Su7",
        "outputId": "af053393-3a46-4a55-fcf4-f0fed0c4b625"
      },
      "execution_count": 14,
      "outputs": [
        {
          "output_type": "stream",
          "name": "stdout",
          "text": [
            "+-----------+--------------------+\n",
            "|customer_id|average_order_amount|\n",
            "+-----------+--------------------+\n",
            "|          1|             175.625|\n",
            "|          3|               197.6|\n",
            "+-----------+--------------------+\n",
            "\n"
          ]
        }
      ]
    },
    {
      "cell_type": "markdown",
      "source": [
        "#Question 11"
      ],
      "metadata": {
        "id": "vGdxqyDe_kYd"
      }
    },
    {
      "cell_type": "code",
      "source": [
        "data = [\n",
        "    (1, \"A\", 500),\n",
        "    (1, \"B\", 300),\n",
        "    (2, \"A\", 700),\n",
        "    (2, \"C\", 200),\n",
        "    (3, \"B\", 450),\n",
        "    (3, \"C\", 550)\n",
        "]\n",
        "\n",
        "\n",
        "columns = [\"store_id\", \"product_id\", \"sales\"]\n",
        "\n",
        "\n",
        "data_df = spark.createDataFrame(data, columns)\n",
        "\n",
        "\n",
        "result = data_df.groupBy(\"store_id\").agg(sum(\"sales\").alias(\"total_sales\"))\n",
        "\n",
        "\n",
        "result.show()"
      ],
      "metadata": {
        "colab": {
          "base_uri": "https://localhost:8080/"
        },
        "id": "ys_V0O8b_poH",
        "outputId": "b4679bf0-1099-4c25-ea98-92a1f2234848"
      },
      "execution_count": 15,
      "outputs": [
        {
          "output_type": "stream",
          "name": "stdout",
          "text": [
            "+--------+-----------+\n",
            "|store_id|total_sales|\n",
            "+--------+-----------+\n",
            "|       1|        800|\n",
            "|       2|        900|\n",
            "|       3|       1000|\n",
            "+--------+-----------+\n",
            "\n"
          ]
        }
      ]
    },
    {
      "cell_type": "markdown",
      "source": [
        "#Question 12"
      ],
      "metadata": {
        "id": "7QRzvmy7Atnh"
      }
    },
    {
      "cell_type": "code",
      "source": [
        "data = [\n",
        "    (\"HR\", \"Manager\", 1),\n",
        "    (\"HR\", \"Executive\", 2),\n",
        "    (\"IT\", \"Manager\", 3),\n",
        "    (\"IT\", \"Developer\", 4),\n",
        "    (\"Finance\", \"Analyst\", 5),\n",
        "    (\"Finance\", \"Manager\", 6),\n",
        "    (\"IT\", \"Developer\", 7),\n",
        "    (\"HR\", \"Executive\", 8)\n",
        "]\n",
        "\n",
        "\n",
        "columns = [\"department\", \"designation\", \"employee_id\"]\n",
        "\n",
        "\n",
        "data_df = spark.createDataFrame(data, columns)\n",
        "\n",
        "\n",
        "result = data_df.groupBy(\"department\", \"designation\").agg(count(\"employee_id\").alias(\"employee_count\"))\n",
        "\n",
        "\n",
        "result.show()"
      ],
      "metadata": {
        "colab": {
          "base_uri": "https://localhost:8080/"
        },
        "id": "2l9Ou5CIAw3C",
        "outputId": "1b2cad04-efa9-40ec-afbd-cce9529215f5"
      },
      "execution_count": 16,
      "outputs": [
        {
          "output_type": "stream",
          "name": "stdout",
          "text": [
            "+----------+-----------+--------------+\n",
            "|department|designation|employee_count|\n",
            "+----------+-----------+--------------+\n",
            "|        IT|  Developer|             2|\n",
            "|        HR|    Manager|             1|\n",
            "|        IT|    Manager|             1|\n",
            "|        HR|  Executive|             2|\n",
            "|   Finance|    Manager|             1|\n",
            "|   Finance|    Analyst|             1|\n",
            "+----------+-----------+--------------+\n",
            "\n"
          ]
        }
      ]
    },
    {
      "cell_type": "markdown",
      "source": [
        "#Question 13"
      ],
      "metadata": {
        "id": "RvbvgBJZBT7-"
      }
    },
    {
      "cell_type": "code",
      "source": [
        "data = [\n",
        "    (1, \"North\", 150.50),\n",
        "    (2, \"South\", 200.75),\n",
        "    (3, \"North\", 100.00),\n",
        "    (4, \"East\", 250.30),\n",
        "    (5, \"West\", 300.00),\n",
        "    (6, \"South\", 180.20)\n",
        "]\n",
        "\n",
        "\n",
        "columns = [\"customer_id\", \"region\", \"purchase_amount\"]\n",
        "\n",
        "\n",
        "data_df = spark.createDataFrame(data, columns)\n",
        "\n",
        "\n",
        "result = data_df.groupBy(\"region\").agg(avg(\"purchase_amount\").alias(\"average_purchase_amount\"))\n",
        "\n",
        "\n",
        "result.show()"
      ],
      "metadata": {
        "colab": {
          "base_uri": "https://localhost:8080/"
        },
        "id": "uUhXQv3HBW1s",
        "outputId": "fb46d7b8-0522-4d62-c1a8-9c1c8198c134"
      },
      "execution_count": 17,
      "outputs": [
        {
          "output_type": "stream",
          "name": "stdout",
          "text": [
            "+------+-----------------------+\n",
            "|region|average_purchase_amount|\n",
            "+------+-----------------------+\n",
            "| South|                190.475|\n",
            "| North|                 125.25|\n",
            "|  East|                  250.3|\n",
            "|  West|                  300.0|\n",
            "+------+-----------------------+\n",
            "\n"
          ]
        }
      ]
    },
    {
      "cell_type": "markdown",
      "source": [
        "#Question 14"
      ],
      "metadata": {
        "id": "GuGelD6-CJyg"
      }
    },
    {
      "cell_type": "code",
      "source": [
        "data = [\n",
        "    (\"Electronics\", \"Mobile\", 500),\n",
        "    (\"Electronics\", \"Laptop\", 1200),\n",
        "    (\"Electronics\", \"Tablet\", 300),\n",
        "    (\"Furniture\", \"Chair\", 150),\n",
        "    (\"Furniture\", \"Table\", 300),\n",
        "    (\"Clothing\", \"Shirts\", 100),\n",
        "    (\"Clothing\", \"Pants\", 200)\n",
        "]\n",
        "\n",
        "\n",
        "columns = [\"category\", \"subcategory\", \"sales\"]\n",
        "\n",
        "\n",
        "data_df = spark.createDataFrame(data, columns)\n",
        "\n",
        "\n",
        "result = data_df.groupBy(\"category\").agg(\n",
        "    sum(\"sales\").alias(\"total_sales\"),\n",
        "    avg(\"sales\").alias(\"average_sales\")\n",
        ")\n",
        "\n",
        "\n",
        "result.show()\n",
        "\n",
        "result = data_df.groupBy(\"subcategory\").agg(\n",
        "    sum(\"sales\").alias(\"total_sales\"),\n",
        "    avg(\"sales\").alias(\"average_sales\")\n",
        ")\n",
        "\n",
        "result.show()"
      ],
      "metadata": {
        "colab": {
          "base_uri": "https://localhost:8080/"
        },
        "id": "AXpkfIt7CMa8",
        "outputId": "106468cc-557d-4681-e0f1-514cf0ab614e"
      },
      "execution_count": 18,
      "outputs": [
        {
          "output_type": "stream",
          "name": "stdout",
          "text": [
            "+-----------+-----------+-----------------+\n",
            "|   category|total_sales|    average_sales|\n",
            "+-----------+-----------+-----------------+\n",
            "|Electronics|       2000|666.6666666666666|\n",
            "|   Clothing|        300|            150.0|\n",
            "|  Furniture|        450|            225.0|\n",
            "+-----------+-----------+-----------------+\n",
            "\n",
            "+-----------+-----------+-------------+\n",
            "|subcategory|total_sales|average_sales|\n",
            "+-----------+-----------+-------------+\n",
            "|     Laptop|       1200|       1200.0|\n",
            "|     Mobile|        500|        500.0|\n",
            "|     Tablet|        300|        300.0|\n",
            "|      Chair|        150|        150.0|\n",
            "|      Pants|        200|        200.0|\n",
            "|      Table|        300|        300.0|\n",
            "|     Shirts|        100|        100.0|\n",
            "+-----------+-----------+-------------+\n",
            "\n"
          ]
        }
      ]
    },
    {
      "cell_type": "markdown",
      "source": [
        "#Question 15"
      ],
      "metadata": {
        "id": "Rj8v_EPuDTdb"
      }
    },
    {
      "cell_type": "code",
      "source": [
        "data = [\n",
        "    (1, \"ORD001\", 5000),\n",
        "    (2, \"ORD002\", 4000),\n",
        "    (3, \"ORD003\", 7000),\n",
        "    (1, \"ORD004\", 6000),\n",
        "    (4, \"ORD005\", 8000),\n",
        "    (5, \"ORD006\", 2000),\n",
        "    (3, \"ORD007\", 5000)\n",
        "]\n",
        "\n",
        "\n",
        "columns = [\"customer_id\", \"order_id\", \"order_amount\"]\n",
        "\n",
        "\n",
        "data_df = spark.createDataFrame(data, columns)\n",
        "\n",
        "\n",
        "result = data_df.groupBy(\"customer_id\").agg(sum(\"order_amount\").alias(\"total_order_amount\"))\n",
        "\n",
        "\n",
        "result = result.filter(result.total_order_amount > 10000)\n",
        "\n",
        "\n",
        "result.show()"
      ],
      "metadata": {
        "colab": {
          "base_uri": "https://localhost:8080/"
        },
        "id": "w_DOAMpaDVCr",
        "outputId": "631d315b-294c-4f89-c4c6-07e6e998ec5c"
      },
      "execution_count": 19,
      "outputs": [
        {
          "output_type": "stream",
          "name": "stdout",
          "text": [
            "+-----------+------------------+\n",
            "|customer_id|total_order_amount|\n",
            "+-----------+------------------+\n",
            "|          1|             11000|\n",
            "|          3|             12000|\n",
            "+-----------+------------------+\n",
            "\n"
          ]
        }
      ]
    },
    {
      "cell_type": "markdown",
      "source": [
        "#Question 16"
      ],
      "metadata": {
        "id": "Mt4K6LwkEEFe"
      }
    },
    {
      "cell_type": "code",
      "source": [
        "data = [\n",
        "    (\"R1\", \"P1\", \"C1\"),\n",
        "    (\"R2\", \"P1\", \"C2\"),\n",
        "    (\"R3\", \"P2\", \"C3\"),\n",
        "    (\"R4\", \"P2\", \"C1\"),\n",
        "    (\"R5\", \"P3\", \"C4\"),\n",
        "    (\"R6\", \"P3\", \"C5\"),\n",
        "    (\"R7\", \"P3\", \"C4\"),\n",
        "    (\"R8\", \"P1\", \"C3\")\n",
        "]\n",
        "\n",
        "\n",
        "columns = [\"review_id\", \"product_id\", \"customer_id\"]\n",
        "\n",
        "\n",
        "data_df = spark.createDataFrame(data, columns)\n",
        "\n",
        "\n",
        "result = data_df.groupBy(\"product_id\").agg(countDistinct(\"customer_id\").alias(\"unique_reviewers\"))\n",
        "\n",
        "\n",
        "result.show()"
      ],
      "metadata": {
        "colab": {
          "base_uri": "https://localhost:8080/"
        },
        "id": "yJ-FVMPNEF46",
        "outputId": "78bab81c-c8cc-4502-a766-85e4c30969f0"
      },
      "execution_count": 20,
      "outputs": [
        {
          "output_type": "stream",
          "name": "stdout",
          "text": [
            "+----------+----------------+\n",
            "|product_id|unique_reviewers|\n",
            "+----------+----------------+\n",
            "|        P2|               2|\n",
            "|        P3|               2|\n",
            "|        P1|               3|\n",
            "+----------+----------------+\n",
            "\n"
          ]
        }
      ]
    },
    {
      "cell_type": "markdown",
      "source": [
        "#Question 17"
      ],
      "metadata": {
        "id": "3HSe2xDnEqDk"
      }
    },
    {
      "cell_type": "code",
      "source": [
        "data = [\n",
        "    (1, \"ProductA\", 500),\n",
        "    (1, \"ProductB\", 300),\n",
        "    (1, \"ProductA\", 200),\n",
        "    (2, \"ProductA\", 400),\n",
        "    (2, \"ProductC\", 700),\n",
        "    (3, \"ProductB\", 600),\n",
        "    (3, \"ProductC\", 800)\n",
        "]\n",
        "\n",
        "\n",
        "columns = [\"store_id\", \"product_id\", \"sales\"]\n",
        "\n",
        "\n",
        "data_df = spark.createDataFrame(data, columns)\n",
        "\n",
        "\n",
        "window = Window.partitionBy(\"store_id\", \"product_id\")\n",
        "\n",
        "\n",
        "result = data_df.withColumn(\"total_sales\", sum(\"sales\").over(window))\n",
        "\n",
        "\n",
        "result = result.select(\"store_id\", \"product_id\", \"total_sales\").distinct()\n",
        "\n",
        "\n",
        "result.show()"
      ],
      "metadata": {
        "colab": {
          "base_uri": "https://localhost:8080/"
        },
        "id": "kuOodxMJErt7",
        "outputId": "9c6e0ece-e750-4827-d478-04cc12264b3e"
      },
      "execution_count": 21,
      "outputs": [
        {
          "output_type": "stream",
          "name": "stdout",
          "text": [
            "+--------+----------+-----------+\n",
            "|store_id|product_id|total_sales|\n",
            "+--------+----------+-----------+\n",
            "|       1|  ProductA|        700|\n",
            "|       1|  ProductB|        300|\n",
            "|       2|  ProductA|        400|\n",
            "|       2|  ProductC|        700|\n",
            "|       3|  ProductB|        600|\n",
            "|       3|  ProductC|        800|\n",
            "+--------+----------+-----------+\n",
            "\n"
          ]
        }
      ]
    },
    {
      "cell_type": "markdown",
      "source": [
        "#Question 18"
      ],
      "metadata": {
        "id": "hGJuDYNlHIwK"
      }
    },
    {
      "cell_type": "code",
      "source": [
        "data = [\n",
        "    (\"HR\", 1, \"john.doe@gmail.com\"),\n",
        "    (\"IT\", 2, \"alice.smith@gmail.com\"),\n",
        "    (\"HR\", 3, \"bob.jones@yahoo.com\"),\n",
        "    (\"IT\", 4, \"charlie.brown@gmail.com\"),\n",
        "    (\"Finance\", 5, \"dave.martin@gmail.com\"),\n",
        "    (\"Finance\", 6, \"ellen.white@hotmail.com\"),\n",
        "    (\"HR\", 7, \"george.king@gmail.com\"),\n",
        "]\n",
        "\n",
        "\n",
        "columns = [\"department\", \"employee_id\", \"email\"]\n",
        "\n",
        "\n",
        "data_df = spark.createDataFrame(data, columns)\n",
        "\n",
        "\n",
        "result = data_df.filter(col(\"email\").like(\"%@gmail.com%\"))\n",
        "\n",
        "\n",
        "result = result.groupBy(\"department\").count().alias(\"gmail_count\")\n",
        "\n",
        "\n",
        "result.show()"
      ],
      "metadata": {
        "colab": {
          "base_uri": "https://localhost:8080/"
        },
        "id": "ppTNXe9rHEDK",
        "outputId": "5b8f260a-719f-45da-b301-bdd7afc268c1"
      },
      "execution_count": 22,
      "outputs": [
        {
          "output_type": "stream",
          "name": "stdout",
          "text": [
            "+----------+-----+\n",
            "|department|count|\n",
            "+----------+-----+\n",
            "|        HR|    2|\n",
            "|        IT|    2|\n",
            "|   Finance|    1|\n",
            "+----------+-----+\n",
            "\n"
          ]
        }
      ]
    },
    {
      "cell_type": "markdown",
      "source": [
        "#Question 19"
      ],
      "metadata": {
        "id": "zVHQW-TmK0lY"
      }
    },
    {
      "cell_type": "code",
      "source": [
        "data = [\n",
        "    (1, \"HR\", 85),\n",
        "    (2, \"IT\", 92),\n",
        "    (3, \"HR\", 78),\n",
        "    (4, \"Finance\", 95),\n",
        "    (5, \"IT\", 88),\n",
        "    (6, \"Finance\", 91),\n",
        "    (7, \"HR\", 90)\n",
        "]\n",
        "\n",
        "\n",
        "columns = [\"employee_id\", \"department\", \"score\"]\n",
        "\n",
        "\n",
        "data_df = spark.createDataFrame(data, columns)\n",
        "\n",
        "\n",
        "result = data_df.groupBy(\"department\").agg(max(\"score\").alias(\"max_score\"))\n",
        "\n",
        "\n",
        "result = result.withColumnRenamed(\"department\", \"dept_max_score\")\n",
        "\n",
        "\n",
        "final_df = data_df.join(result, (data_df.department == result.dept_max_score) & (data_df.score == result.max_score)) \\\n",
        "                   .select(data_df[\"department\"], data_df[\"employee_id\"], data_df[\"score\"])\n",
        "\n",
        "\n",
        "final_df.show()\n"
      ],
      "metadata": {
        "colab": {
          "base_uri": "https://localhost:8080/"
        },
        "id": "OHR_zONSHxAn",
        "outputId": "bfd38864-66c5-43b4-c5ac-8ed6a33a73ee"
      },
      "execution_count": 23,
      "outputs": [
        {
          "output_type": "stream",
          "name": "stdout",
          "text": [
            "+----------+-----------+-----+\n",
            "|department|employee_id|score|\n",
            "+----------+-----------+-----+\n",
            "|        IT|          2|   92|\n",
            "|   Finance|          4|   95|\n",
            "|        HR|          7|   90|\n",
            "+----------+-----------+-----+\n",
            "\n"
          ]
        }
      ]
    },
    {
      "cell_type": "markdown",
      "source": [
        "#Question 20"
      ],
      "metadata": {
        "id": "A-Q9w4tgM7Yp"
      }
    },
    {
      "cell_type": "code",
      "source": [
        "data = [\n",
        "    (1, \"Completed\", 100),\n",
        "    (2, \"Pending\", 200),\n",
        "    (3, \"Completed\", 150),\n",
        "    (4, \"Pending\", 250),\n",
        "    (5, \"Completed\", 300),\n",
        "    (6, \"Completed\", 50),\n",
        "    (7, \"Pending\", 100),\n",
        "]\n",
        "\n",
        "\n",
        "columns = [\"order_id\", \"order_status\", \"amount\"]\n",
        "\n",
        "\n",
        "df = spark.createDataFrame(data, columns)\n",
        "\n",
        "\n",
        "result_df = df.groupBy(\"order_status\").agg(\n",
        "    sum(\"amount\").alias(\"total_amount\"),\n",
        "    count(when(df[\"order_status\"] == \"Pending\", 1)).alias(\"pending_count\")\n",
        ")\n",
        "\n",
        "\n",
        "result_df.show()"
      ],
      "metadata": {
        "colab": {
          "base_uri": "https://localhost:8080/"
        },
        "id": "gbelk8QeM-IS",
        "outputId": "3c72f8a3-92d2-4cdf-d79a-f7da0b867e35"
      },
      "execution_count": 24,
      "outputs": [
        {
          "output_type": "stream",
          "name": "stdout",
          "text": [
            "+------------+------------+-------------+\n",
            "|order_status|total_amount|pending_count|\n",
            "+------------+------------+-------------+\n",
            "|   Completed|         600|            0|\n",
            "|     Pending|         550|            3|\n",
            "+------------+------------+-------------+\n",
            "\n"
          ]
        }
      ]
    },
    {
      "cell_type": "markdown",
      "source": [
        "#Some Other useful Functions"
      ],
      "metadata": {
        "id": "BKQR85v0RMDF"
      }
    },
    {
      "cell_type": "code",
      "source": [
        "#from pyspark.sql.functions import to_date\n",
        "\n",
        "#df.write.csv(\"data.csv\", header=True)\n",
        "\n",
        "#pandas_df = spark_df.toPandas()\n",
        "\n",
        "#data = pd_df.values.tolist()\n",
        "\n",
        "#df = df.withColumn(\"Price\", regexp_replace(col(\"Price(Rs)\"), \"[^0-9.]\", \"\").cast(\"double\"))\n",
        "\n",
        "#df = df.withColumn(\"date\", to_date(col(\"date\"), \"yyyy-MM-dd\"))\n",
        "\n",
        "#df = df.dropna(subset=[\"critical column\"])\n",
        "\n",
        "#df = df.dropDuplicates([\"order_id\", \"customer_id\"])\n",
        "\n",
        "#df = df.withColumn(\"product_name\", regexp_replace(col(\"product_name\"), \"^\\\\d+\\\\. \", \"\"))\n",
        "\n",
        "#df = df.withColumn(\"date\", col(\"date\").cast(\"string\"))\n",
        "\n",
        "#df = df.filter(col(\"quantity\") > 0)\n",
        "\n",
        "#df = df.select(\"order_id\", \"date\")"
      ],
      "metadata": {
        "id": "RQ0_HSGPRQVt"
      },
      "execution_count": 25,
      "outputs": []
    }
  ]
}